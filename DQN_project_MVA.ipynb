{
 "cells": [
  {
   "cell_type": "markdown",
   "metadata": {},
   "source": [
    "**You may need to install [OpenCV](https://pypi.python.org/pypi/opencv-python) and [scikit-video](http://www.scikit-video.org/stable/).**"
   ]
  },
  {
   "cell_type": "code",
   "execution_count": 36,
   "metadata": {},
   "outputs": [],
   "source": [
    "import keras\n",
    "import numpy as np\n",
    "import io\n",
    "import base64\n",
    "from IPython.display import HTML\n",
    "import skvideo.io\n",
    "import cv2\n",
    "import json\n",
    "\n",
    "from keras.models import Sequential,model_from_json\n",
    "from keras.layers.core import Dense\n",
    "from keras.optimizers import sgd\n",
    "from keras.layers import Conv2D, MaxPooling2D, Activation, AveragePooling2D,Reshape,BatchNormalization,Flatten"
   ]
  },
  {
   "cell_type": "markdown",
   "metadata": {},
   "source": [
    "# MiniProject #3: Deep Reinforcement Learning"
   ]
  },
  {
   "cell_type": "markdown",
   "metadata": {},
   "source": [
    "__Notations__: $E_p$ is the expectation under probability $p$. Please justify each of your answer and widely comment your code."
   ]
  },
  {
   "cell_type": "markdown",
   "metadata": {},
   "source": [
    "# Context"
   ]
  },
  {
   "cell_type": "markdown",
   "metadata": {},
   "source": [
    "In a reinforcement learning algorithm, we modelize each step $t$ as an action $a_t$ obtained from a state $s_t$, i.e. $\\{(a_{t},s_{t})_{t\\leq T}\\}$ having the Markov property. We consider a discount factor $\\gamma \\in [0,1]$ that ensures convergence. The goal is to find among all the policies $\\pi$, one that maximizes the expected reward:\n",
    "\n",
    "\\begin{equation*}\n",
    "R(\\pi)=\\sum_{t\\leq T}E_{p^{\\pi}}[\\gamma^t r(s_{t},a_{t})] \\> ,\n",
    "\\end{equation*}\n",
    "\n",
    "where: \n",
    "\\begin{equation*}p^{\\pi}(a_{0},a_{1},s_{1},...,a_{T},s_{T})=p(a_{0})\\prod_{t=1}^{T}\\pi(a_{t}|s_{t})p(s_{t+1}|s_{t},a_{t}) \\> .\n",
    "\\end{equation*}\n",
    "\n",
    "We note the $Q$-function:\n",
    "\n",
    "\\begin{equation*}Q^\\pi(s,a)=E_{p^{\\pi}}[\\sum_{t\\leq T}\\gamma^{t}r(s_{t},a_{t})|s_{0}=s,a_{0}=a] \\> .\n",
    "\\end{equation*}\n",
    "\n",
    "Thus, the optimal Q function is:\n",
    "\\begin{equation*}\n",
    "Q^*(s,a)=\\max_{\\pi}Q^\\pi(s,a) \\> .\n",
    "\\end{equation*}\n",
    "\n",
    "In this project, we will apply the deep reinforcement learning techniques to a simple game: an agent will have to learn from scratch a policy that will permit it maximizing a reward."
   ]
  },
  {
   "cell_type": "markdown",
   "metadata": {},
   "source": [
    "## The environment, the agent and the game"
   ]
  },
  {
   "cell_type": "markdown",
   "metadata": {},
   "source": [
    "### The environment"
   ]
  },
  {
   "cell_type": "markdown",
   "metadata": {},
   "source": [
    "```Environment``` is an abstract class that represents the states, rewards, and actions to obtain the new state."
   ]
  },
  {
   "cell_type": "code",
   "execution_count": 5,
   "metadata": {},
   "outputs": [],
   "source": [
    "class Environment(object):\n",
    "    def __init__(self):\n",
    "        pass\n",
    "\n",
    "    def act(self, act):\n",
    "        \"\"\"\n",
    "        One can act on the environment and obtain its reaction:\n",
    "        - the new state\n",
    "        - the reward of the new state\n",
    "        - should we continue the game?\n",
    "\n",
    "        :return: state, reward, game_over\n",
    "        \"\"\"\n",
    "        pass\n",
    "\n",
    "\n",
    "    def reset(self):\n",
    "        \"\"\"\n",
    "        Reinitialize the environment to a random state and returns\n",
    "        the original state\n",
    "\n",
    "        :return: state\n",
    "        \"\"\"\n",
    "        pass\n",
    "    \n",
    "    def draw(self):\n",
    "        \"\"\"\n",
    "        Visualize in the console or graphically the current state\n",
    "        \"\"\"\n",
    "        pass"
   ]
  },
  {
   "cell_type": "markdown",
   "metadata": {},
   "source": [
    "The method ```act``` allows to act on the environment at a given state $s_t$ (stored internally), via action $a_t$. The method will return the new state $s_{t+1}$, the reward $r(s_{t},a_{t})$ and determines if $t\\leq T$ (*game_over*).\n",
    "\n",
    "The method ```reset``` simply reinitializes the environment to a random state $s_0$.\n",
    "\n",
    "The method ```draw``` displays the current state $s_t$ (this is useful to check the behavior of the Agent).\n",
    "\n",
    "We modelize $s_t$ as a tensor, while $a_t$ is an integer."
   ]
  },
  {
   "cell_type": "markdown",
   "metadata": {},
   "source": [
    "### The Agent"
   ]
  },
  {
   "cell_type": "markdown",
   "metadata": {},
   "source": [
    "The goal of the ```Agent``` is to interact with the ```Environment``` by proposing actions $a_t$ obtained from a given state $s_t$ to attempt to maximize its __reward__ $r(s_t,a_t)$. We propose the following abstract class:"
   ]
  },
  {
   "cell_type": "code",
   "execution_count": 6,
   "metadata": {},
   "outputs": [],
   "source": [
    "class Agent(object):\n",
    "    def __init__(self, epsilon=0.1, n_action=4):\n",
    "        self.epsilon = epsilon\n",
    "        self.n_action = n_action\n",
    "    \n",
    "    def set_epsilon(self,e):\n",
    "        self.epsilon = e\n",
    "\n",
    "    def act(self,s,train=True):\n",
    "        \"\"\" This function should return the next action to do:\n",
    "        an integer between 0 and 4 (not included) with a random exploration of epsilon\"\"\"\n",
    "        if train:\n",
    "            if np.random.rand() <= self.epsilon:\n",
    "                a = np.random.randint(0, self.n_action, size=1)[0]\n",
    "            else:\n",
    "                a = self.learned_act(s)\n",
    "        else: # in some cases, this can improve the performance.. remove it if poor performances\n",
    "            a = self.learned_act(s)\n",
    "\n",
    "        return a\n",
    "\n",
    "    def learned_act(self,s):\n",
    "        \"\"\" Act via the policy of the agent, from a given state s\n",
    "        it proposes an action a\"\"\"\n",
    "        pass\n",
    "\n",
    "    def reinforce(self, s, n_s, a, r, game_over_):\n",
    "        \"\"\" This function is the core of the learning algorithm. \n",
    "        It takes as an input the current state s_, the next state n_s_\n",
    "        the action a_ used to move from s_ to n_s_ and the reward r_.\n",
    "        \n",
    "        Its goal is to learn a policy.\n",
    "        \"\"\"\n",
    "        pass\n",
    "\n",
    "    def save(self):\n",
    "        \"\"\" This function returns basic stats if applicable: the\n",
    "        loss and/or the model\"\"\"\n",
    "        pass\n",
    "\n",
    "    def load(self):\n",
    "        \"\"\" This function allows to restore a model\"\"\"\n",
    "        pass"
   ]
  },
  {
   "cell_type": "markdown",
   "metadata": {},
   "source": [
    "***\n",
    "__Question 1__:\n",
    "Explain the function act. Why is ```epsilon``` essential?"
   ]
  },
  {
   "cell_type": "markdown",
   "metadata": {},
   "source": [
    "The function ```act``` returns the next action to do based on the current state. To determine this action, there are two ways : \n",
    "> - The exploration : a random action is performed\n",
    "> - The exploitation : an action is performed based on the current state and on the knowledge the algorithm has accumulated so far on the possible outcomes of the game. \n",
    "\n",
    "If ```epsilon``` equals 1, the next action will always be choosen randomly (exploration). If ```epsilon``` equals 0, the choice will be biasied by the past situations that the algorithm learned from(exploitation). \n",
    "Thus,The ```epsilon``` is essential as it allows to make a tradeoff between these two ways. "
   ]
  },
  {
   "cell_type": "markdown",
   "metadata": {},
   "source": [
    "***\n",
    "### The Game"
   ]
  },
  {
   "cell_type": "markdown",
   "metadata": {},
   "source": [
    "The ```Agent``` and the ```Environment``` work in an interlaced way as in the following (take some time to understand this code as it is the core of the project)\n",
    "\n",
    "```python\n",
    "\n",
    "epoch = 300\n",
    "env = Environment()\n",
    "agent = Agent()\n",
    "\n",
    "\n",
    "# Number of won games\n",
    "score = 0\n",
    "loss = 0\n",
    "\n",
    "\n",
    "for e in range(epoch):\n",
    "    # At each epoch, we restart to a fresh game and get the initial state\n",
    "    state = env.reset()\n",
    "    # This assumes that the games will end\n",
    "    game_over = False\n",
    "\n",
    "    win = 0\n",
    "    lose = 0\n",
    "    \n",
    "    while not game_over:\n",
    "        # The agent performs an action\n",
    "        action = agent.act(state)\n",
    "\n",
    "        # Apply an action to the environment, get the next state, the reward\n",
    "        # and if the games end\n",
    "        prev_state = state\n",
    "        state, reward, game_over = env.act(action)\n",
    "\n",
    "        # Update the counters\n",
    "        if reward > 0:\n",
    "            win = win + reward\n",
    "        if reward < 0:\n",
    "            lose = lose -reward\n",
    "\n",
    "        # Apply the reinforcement strategy\n",
    "        loss = agent.reinforce(prev_state, state,  action, reward, game_over)\n",
    "\n",
    "    # Save as a mp4\n",
    "    if e % 10 == 0:\n",
    "        env.draw(e)\n",
    "\n",
    "    # Update stats\n",
    "    score += win-lose\n",
    "\n",
    "    print(\"Epoch {:03d}/{:03d} | Loss {:.4f} | Win/lose count {}/{} ({})\"\n",
    "          .format(e, epoch, loss, win, lose, win-lose))\n",
    "    agent.save()\n",
    "```"
   ]
  },
  {
   "cell_type": "markdown",
   "metadata": {},
   "source": [
    "# The game, *eat cheese*"
   ]
  },
  {
   "cell_type": "markdown",
   "metadata": {},
   "source": [
    "A rat runs on an island and tries to eat as much as possible. The island is subdivided into $N\\times N$ cells, in which there are cheese (+0.5) and poisonous cells (-1). The rat has a visibility of 2 cells (thus it can see $5^2$ cells). The rat is given a time $T$ to accumulate as much food as possible. It can perform 4 actions: going up, down, left, right. \n",
    "\n",
    "The goal is to code an agent to solve this task that will learn by trial and error. We propose the following environment:"
   ]
  },
  {
   "cell_type": "code",
   "execution_count": 7,
   "metadata": {},
   "outputs": [],
   "source": [
    "class Environment(object):\n",
    "    def __init__(self, grid_size=10, max_time=500, temperature=0.1):\n",
    "        grid_size = grid_size+4\n",
    "        self.grid_size = grid_size\n",
    "        self.max_time = max_time\n",
    "        self.temperature = temperature\n",
    "\n",
    "        #board on which one plays\n",
    "        self.board = np.zeros((grid_size,grid_size))\n",
    "        self.position = np.zeros((grid_size,grid_size))\n",
    "\n",
    "        # coordinate of the cat\n",
    "        self.x = 0\n",
    "        self.y = 1\n",
    "\n",
    "        # self time\n",
    "        self.t = 0\n",
    "\n",
    "        self.scale=16\n",
    "\n",
    "        self.to_draw = np.zeros((max_time+2, grid_size*self.scale, grid_size*self.scale, 3))\n",
    "\n",
    "\n",
    "    def draw(self,e):\n",
    "        skvideo.io.vwrite(str(e) + '.mp4', self.to_draw)\n",
    "\n",
    "    def get_frame(self,t):\n",
    "        b = np.zeros((self.grid_size,self.grid_size,3))+128\n",
    "        b[self.board>0,0] = 256\n",
    "        b[self.board < 0, 2] = 256\n",
    "        b[self.x,self.y,:]=256\n",
    "        b[-2:,:,:]=0\n",
    "        b[:,-2:,:]=0\n",
    "        b[:2,:,:]=0\n",
    "        b[:,:2,:]=0\n",
    "        \n",
    "        b =  cv2.resize(b, None, fx=self.scale, fy=self.scale, interpolation=cv2.INTER_NEAREST)\n",
    "\n",
    "        self.to_draw[t,:,:,:]=b\n",
    "\n",
    "\n",
    "    def act(self, action):\n",
    "        \"\"\"This function returns the new state, reward and decides if the\n",
    "        game ends.\"\"\"\n",
    "\n",
    "        self.get_frame(int(self.t))\n",
    "\n",
    "        self.position = np.zeros((self.grid_size, self.grid_size))\n",
    "\n",
    "        self.position[0:2,:]= -1\n",
    "        self.position[:,0:2] = -1\n",
    "        self.position[-2:, :] = -1\n",
    "        self.position[-2:, :] = -1\n",
    "\n",
    "        self.position[self.x, self.y] = 1\n",
    "        if action == 0:\n",
    "            if self.x == self.grid_size-3:\n",
    "                self.x = self.x-1\n",
    "            else:\n",
    "                self.x = self.x + 1\n",
    "        elif action == 1:\n",
    "            if self.x == 2:\n",
    "                self.x = self.x+1\n",
    "            else:\n",
    "                self.x = self.x-1\n",
    "        elif action == 2:\n",
    "            if self.y == self.grid_size - 3:\n",
    "                self.y = self.y - 1\n",
    "            else:\n",
    "                self.y = self.y + 1\n",
    "        elif action == 3:\n",
    "            if self.y == 2:\n",
    "                self.y = self.y + 1\n",
    "            else:\n",
    "                self.y = self.y - 1\n",
    "        else:\n",
    "            RuntimeError('Error: action not recognized')\n",
    "\n",
    "        self.t = self.t + 1\n",
    "        reward = self.board[self.x, self.y]\n",
    "        self.board[self.x, self.y] = 0\n",
    "        game_over = self.t > self.max_time\n",
    "        state = np.concatenate((self.board.reshape(self.grid_size, self.grid_size,1),\n",
    "                        self.position.reshape(self.grid_size, self.grid_size,1)),axis=2)\n",
    "        state = state[self.x-2:self.x+3,self.y-2:self.y+3,:]\n",
    "\n",
    "        return state, reward, game_over\n",
    "\n",
    "    def reset(self):\n",
    "        \"\"\"This function resets the game and returns the initial state\"\"\"\n",
    "\n",
    "        self.x = np.random.randint(3, self.grid_size-3, size=1)[0]\n",
    "        self.y = np.random.randint(3, self.grid_size-3, size=1)[0]\n",
    "\n",
    "\n",
    "        bonus = 0.5*np.random.binomial(1,self.temperature,size=self.grid_size**2)\n",
    "        bonus = bonus.reshape(self.grid_size,self.grid_size)\n",
    "\n",
    "        malus = -1.0*np.random.binomial(1,self.temperature,size=self.grid_size**2)\n",
    "        malus = malus.reshape(self.grid_size, self.grid_size)\n",
    "\n",
    "        self.to_draw = np.zeros((self.max_time+2, self.grid_size*self.scale, self.grid_size*self.scale, 3))\n",
    "\n",
    "\n",
    "        malus[bonus>0]=0\n",
    "\n",
    "        self.board = bonus + malus\n",
    "\n",
    "        self.position = np.zeros((self.grid_size, self.grid_size))\n",
    "        self.position[0:2,:]= -1\n",
    "        self.position[:,0:2] = -1\n",
    "        self.position[-2:, :] = -1\n",
    "        self.position[-2:, :] = -1\n",
    "        self.board[self.x,self.y] = 0\n",
    "        self.t = 0\n",
    "\n",
    "        state = np.concatenate((\n",
    "                               self.board.reshape(self.grid_size, self.grid_size,1),\n",
    "                        self.position.reshape(self.grid_size, self.grid_size,1)),axis=2)\n",
    "\n",
    "        state = state[self.x - 2:self.x + 3, self.y - 2:self.y + 3, :]\n",
    "        return state"
   ]
  },
  {
   "cell_type": "markdown",
   "metadata": {},
   "source": [
    "The following elements are important because they correspond to the hyper parameters for this project:"
   ]
  },
  {
   "cell_type": "code",
   "execution_count": 58,
   "metadata": {},
   "outputs": [],
   "source": [
    "# parameters\n",
    "size = 13\n",
    "T=200\n",
    "temperature=0.3\n",
    "epochs_train=20 # set small when debugging\n",
    "epochs_test=15 # set small when debugging\n",
    "\n",
    "# display videos\n",
    "def display_videos(name):\n",
    "    video = io.open(name, 'r+b').read()\n",
    "    encoded = base64.b64encode(video)\n",
    "    return '''<video alt=\"test\" controls>\n",
    "                <source src=\"data:video/mp4;base64,{0}\" type=\"video/mp4\" />\n",
    "             </video>'''.format(encoded.decode('ascii'))"
   ]
  },
  {
   "cell_type": "markdown",
   "metadata": {},
   "source": [
    "__Question 2__ Explain the use of the arrays ```position``` and ```board```."
   ]
  },
  {
   "cell_type": "markdown",
   "metadata": {},
   "source": [
    "The Position array is a matrix of N*N values that represent the position of the mouse and where it can go. The value of a cell can be : \n",
    "> - 1 if the mouse is located in that cell\n",
    "> - 0 if the mouse can go to that cell \n",
    "> - -1 if the mouse is not allowed to go to that cell (this applies specifically on the cells that are on the frontier)\n",
    "\n",
    "The board array is a matrix of N*N values that represent the reward (bonus or malus) associated to each cell. If the mouse go to a specific cell (i,j), the mouse collects the reward and the value of board[i,j] is updated to 0 so that the mouse can't take to reward another time. "
   ]
  },
  {
   "cell_type": "markdown",
   "metadata": {},
   "source": [
    "## Random Agent"
   ]
  },
  {
   "cell_type": "markdown",
   "metadata": {},
   "source": [
    "***\n",
    "__Question 3__ Implement a random Agent (only ```learned_act``` needs to be implemented):"
   ]
  },
  {
   "cell_type": "code",
   "execution_count": 29,
   "metadata": {},
   "outputs": [],
   "source": [
    "class RandomAgent(Agent):\n",
    "    def __init__(self):\n",
    "        super(RandomAgent, self).__init__()\n",
    "        pass\n",
    "\n",
    "    def learned_act(self, s):\n",
    "        return np.random.randint(0, self.n_action, size=1)[0]"
   ]
  },
  {
   "cell_type": "markdown",
   "metadata": {},
   "source": [
    "***\n",
    "***\n",
    "__Question 4__ Visualize the game moves. You need to fill in the following function for the evaluation:"
   ]
  },
  {
   "cell_type": "code",
   "execution_count": 30,
   "metadata": {},
   "outputs": [],
   "source": [
    "def test(agent,env,epochs,prefix=''):\n",
    "    # Number of won games\n",
    "    score = 0\n",
    "        \n",
    "    for e in range(epochs):\n",
    "        # At each epoch, we restart to a fresh game and get the initial state\n",
    "        state = env.reset()\n",
    "        # This assumes that the games will end\n",
    "        game_over = False\n",
    "\n",
    "        win = 0\n",
    "        lose = 0\n",
    "\n",
    "        while not game_over:\n",
    "            # The agent performs an action\n",
    "            action = agent.act(state)\n",
    "\n",
    "            # Apply an action to the environment, get the next state, the reward\n",
    "            # and if the games end\n",
    "            prev_state = state\n",
    "            state, reward, game_over = env.act(action)\n",
    "\n",
    "            # Update the counters\n",
    "            if reward > 0:\n",
    "                win = win + reward\n",
    "            if reward < 0:\n",
    "                lose = lose -reward\n",
    "\n",
    "        #print(\"Epoch {:03d}/{:03d} | Win/lose count {}/{} ({})\"\n",
    "        #      .format(e, epochs, win, lose, win-lose))\n",
    "        \n",
    "        ##### FILL IN HERE\n",
    "        \n",
    "        # Save as a mp4\n",
    "        env.draw(prefix+str(e))\n",
    "\n",
    "        # Update stats\n",
    "        score = score + win-lose\n",
    "\n",
    "        print(\"Win/lose count {}/{}. Average score ({})\"\n",
    "              .format(win, lose, score/(1+e)))\n",
    "    print('Final score: '+str(score/epochs))"
   ]
  },
  {
   "cell_type": "code",
   "execution_count": 31,
   "metadata": {},
   "outputs": [
    {
     "name": "stdout",
     "output_type": "stream",
     "text": [
      "Win/lose count 9.5/19.0. Average score (-9.5)\n",
      "Win/lose count 11.5/12.0. Average score (-5.0)\n",
      "Win/lose count 14.5/18.0. Average score (-4.5)\n",
      "Win/lose count 5.5/12.0. Average score (-5.0)\n",
      "Win/lose count 10.0/4.0. Average score (-2.8)\n",
      "Win/lose count 14.0/19.0. Average score (-3.1666666666666665)\n",
      "Win/lose count 8.0/20.0. Average score (-4.428571428571429)\n",
      "Win/lose count 9.5/14.0. Average score (-4.4375)\n",
      "Win/lose count 5.5/9.0. Average score (-4.333333333333333)\n",
      "Win/lose count 9.0/11.0. Average score (-4.1)\n",
      "Win/lose count 13.5/14.0. Average score (-3.772727272727273)\n",
      "Win/lose count 9.5/12.0. Average score (-3.6666666666666665)\n",
      "Win/lose count 11.0/13.0. Average score (-3.5384615384615383)\n",
      "Win/lose count 5.5/17.0. Average score (-4.107142857142857)\n",
      "Win/lose count 11.0/13.0. Average score (-3.966666666666667)\n",
      "Final score: -3.966666666666667\n"
     ]
    },
    {
     "data": {
      "text/html": [
       "<video alt=\"test\" controls>\n",
       "                <source src=\"data:video/mp4;base64,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\" type=\"video/mp4\" />\n",
       "             </video>"
      ],
      "text/plain": [
       "<IPython.core.display.HTML object>"
      ]
     },
     "execution_count": 31,
     "metadata": {},
     "output_type": "execute_result"
    }
   ],
   "source": [
    "# Initialize the game\n",
    "env = Environment(grid_size=size, max_time=T,temperature=temperature)\n",
    "\n",
    "# Initialize the agent!\n",
    "agent = RandomAgent()\n",
    "\n",
    "test(agent,env,epochs_test,prefix='random')\n",
    "HTML(display_videos('random0.mp4'))"
   ]
  },
  {
   "cell_type": "markdown",
   "metadata": {},
   "source": [
    "***\n",
    "## DQN"
   ]
  },
  {
   "cell_type": "markdown",
   "metadata": {},
   "source": [
    "Let us assume here that $T=\\infty$.\n",
    "\n",
    "***\n",
    "__Question 5__ Let $\\pi$ be a policy, show that:\n",
    "\n",
    "\\begin{equation*}\n",
    "Q^{\\pi}(s,a)=E_{(s',a')\\sim p(.|s,a)}[r(s,a)+\\gamma Q^{\\pi}(s',a')]\n",
    "\\end{equation*}\n",
    "\n",
    "Then, show that for the optimal policy $\\pi^*$ (we assume its existence), the following holds: \n",
    "\n",
    "\\begin{equation*}\n",
    "Q^{*}(s,a)=E_{s'\\sim \\pi^*(.|s,a)}[r(s,a)+\\gamma\\max_{a'}Q^{*}(s',a')].\n",
    "\\end{equation*}\n",
    "Finally, deduce that a plausible objective is:\n",
    "\n",
    "\\begin{equation*}\n",
    "\\mathcal{L}(\\theta)=E_{s' \\sim \\pi^*(.|s,a)}\\Vert r+\\gamma\\max\\max_{a'}Q(s',a',\\theta)-Q(s,a,\\theta)\\Vert^{2}.\n",
    "\\end{equation*}\n",
    "\n",
    "\n"
   ]
  },
  {
   "cell_type": "markdown",
   "metadata": {},
   "source": [
    "\\begin{equation*}Q^\\pi(s,a)=E_{p^{\\pi}}[\\sum_{t\\leq T}\\gamma^{t}r(s_{t},a_{t})|s_{0}=s,a_{0}=a] \\> .\n",
    "\\end{equation*}"
   ]
  },
  {
   "cell_type": "markdown",
   "metadata": {},
   "source": [
    "***\n",
    "The DQN-learning algorithm relies on these derivations to train the parameters $\\theta$ of a Deep Neural Network:\n",
    "\n",
    "1. At the state $s_t$, select the action $a_t$ with best reward using $Q_t$ and store the results;\n",
    "\n",
    "2. Obtain the new state $s_{t+1}$ from the environment $p$;\n",
    "\n",
    "3. Store $(s_t,a_t,s_{t+1})$;\n",
    "\n",
    "4. Obtain $Q_{t+1}$ by minimizing  $\\mathcal{L}$ from a recovered batch from the previously stored results.\n",
    "\n",
    "***\n",
    "__Question 6__ Implement the class ```Memory``` that stores moves (in a replay buffer) via ```remember``` and provides a ```random_access``` to these. Specify a maximum memory size to avoid side effects. You can for example use a ```list()``` and set by default ```max_memory=100```."
   ]
  },
  {
   "cell_type": "code",
   "execution_count": 32,
   "metadata": {},
   "outputs": [],
   "source": [
    "class Memory(object):\n",
    "    def __init__(self, max_memory=100):\n",
    "        self.max_memory = max_memory\n",
    "        self.memory = list()\n",
    "\n",
    "    def remember(self, m):\n",
    "        #if the memory list containes less than 100 moves then, we add another move to the list \n",
    "        if len(self.memory) < self.max_memory : \n",
    "            self.memory.append(m)\n",
    "        #else we remove the first element of the list and we add the latest move to the list \n",
    "        else :\n",
    "            self.memory.pop(0)\n",
    "            self.memory.append(m)\n",
    "\n",
    "    def random_access(self):\n",
    "        #we pick a random int between 0 and max_memory\n",
    "        index = np.random.randint(0, len(self.memory), size=1)[0]\n",
    "        return self.memory[index]"
   ]
  },
  {
   "cell_type": "markdown",
   "metadata": {},
   "source": [
    "***\n",
    "The pipeline we will use for training is given below:"
   ]
  },
  {
   "cell_type": "code",
   "execution_count": 33,
   "metadata": {},
   "outputs": [],
   "source": [
    "def train(agent,env,epoch,prefix=''):\n",
    "    # Number of won games\n",
    "    score = 0\n",
    "    loss = 0\n",
    "\n",
    "    for e in range(epoch):\n",
    "        # At each epoch, we restart to a fresh game and get the initial state\n",
    "        state = env.reset()\n",
    "        # This assumes that the games will terminate\n",
    "        game_over = False\n",
    "\n",
    "        win = 0\n",
    "        lose = 0\n",
    "\n",
    "        while not game_over:\n",
    "            # The agent performs an action\n",
    "            action = agent.act(state)\n",
    "\n",
    "            # Apply an action to the environment, get the next state, the reward\n",
    "            # and if the games end\n",
    "            prev_state = state\n",
    "            state, reward, game_over = env.act(action)\n",
    "\n",
    "            # Update the counters\n",
    "            if reward > 0:\n",
    "                win = win + reward\n",
    "            if reward < 0:\n",
    "                lose = lose -reward\n",
    "\n",
    "            # Apply the reinforcement strategy\n",
    "            loss = agent.reinforce(prev_state, state,  action, reward, game_over)\n",
    "\n",
    "        # Save as a mp4\n",
    "        if e % 10 == 0:\n",
    "            env.draw(prefix+str(e))\n",
    "\n",
    "        # Update stats\n",
    "        score += win-lose\n",
    "\n",
    "        print(\"Epoch {:03d}/{:03d} | Loss {:.4f} | Win/lose count {}/{} ({})\"\n",
    "              .format(e, epoch, loss, win, lose, win-lose))\n",
    "        agent.save(name_weights=prefix+'model.h5',name_model=prefix+'model.json')"
   ]
  },
  {
   "cell_type": "markdown",
   "metadata": {},
   "source": [
    "***\n",
    "__Question 7__ Implement the DQN training algorithm using a cascade of fully connected layers. You can use different learning rate, batch size or memory size parameters. In particular, the loss might oscillate while the player will start to win the games. You have to find a good criterium."
   ]
  },
  {
   "cell_type": "code",
   "execution_count": 59,
   "metadata": {},
   "outputs": [],
   "source": [
    "class DQN(Agent):\n",
    "    def __init__(self, grid_size,  epsilon = 0.1, memory_size=100, batch_size = 16,n_state=2):\n",
    "        super(DQN, self).__init__(epsilon = epsilon)\n",
    "\n",
    "        # Discount for Q learning\n",
    "        self.discount = 0.99\n",
    "        \n",
    "        self.grid_size = grid_size\n",
    "        \n",
    "        # number of state\n",
    "        self.n_state = n_state\n",
    "\n",
    "        # Memory\n",
    "        self.memory = Memory(memory_size)\n",
    "        \n",
    "        # Batch size when learning\n",
    "        self.batch_size = batch_size\n",
    "\n",
    "    def learned_act(self, s):\n",
    "        pass\n",
    "\n",
    "    def reinforce(self, s_, n_s_, a_, r_, game_over_):\n",
    "        # Two steps: first memorize the states, second learn from the pool\n",
    "\n",
    "        self.memory.remember([s_, n_s_, a_, r_, game_over_])\n",
    "        \n",
    "        input_states = np.zeros((self.batch_size, 5,5,self.n_state))\n",
    "        target_q = np.zeros((self.batch_size, 4))\n",
    "        \n",
    "        for i in range(self.batch_size):\n",
    "            \n",
    "            s_, n_s_, a_, r_, game_over_  = self.memory.random_access()\n",
    "            target_q[i] = self.model.predict(s_.reshape(1,5,5,self.n_state))[0]\n",
    "            input_states[i] = s_\n",
    "            ######## FILL IN\n",
    "            \n",
    "            if game_over_:\n",
    "                target_q[i,a_]=r_\n",
    "                ######## FILL IN\n",
    "            else:\n",
    "                target_q[i,a_]=r_ + self.discount*max(self.model.predict( \n",
    "                    n_s_.reshape(1,5,5,self.n_state))[0])\n",
    "                \n",
    "                ######## FILL IN\n",
    "        ######## FILL IN\n",
    "        # HINT: Clip the target to avoid exploiding gradients.. -- clipping is a bit tighter\n",
    "        target_q = np.clip(target_q, -3, 3)\n",
    "\n",
    "        l = self.model.train_on_batch(input_states, target_q)\n",
    "\n",
    "\n",
    "        return l\n",
    "\n",
    "    def save(self,name_weights='model.h5',name_model='model.json'):\n",
    "        self.model.save_weights(name_weights, overwrite=True)\n",
    "        with open(name_model, \"w\") as outfile:\n",
    "            json.dump(self.model.to_json(), outfile)\n",
    "            \n",
    "    def load(self,name_weights='model.h5',name_model='model.json'):\n",
    "        with open(name_model, \"r\") as jfile:\n",
    "            model = model_from_json(json.load(jfile))\n",
    "        model.load_weights(name_weights)\n",
    "        model.compile(\"sgd\", \"mse\")\n",
    "        self.model = model\n",
    "\n",
    "            \n",
    "class DQN_FC(DQN):\n",
    "    def __init__(self, *args, lr=0.1,**kwargs):\n",
    "        super(DQN_FC, self).__init__( *args,**kwargs)\n",
    "        \n",
    "        # NN Model\n",
    "        model = Sequential()\n",
    "        model.add(Flatten(input_shape=(5,5,self.n_state)))\n",
    "        model.add(Dense(24,activation ='relu'))\n",
    "        model.add(Dense(36,activation ='relu'))\n",
    "        model.add(Dense(4))\n",
    "        ####### FILL IN\n",
    "        \n",
    "        model.compile(sgd(lr=lr, decay=1e-4, momentum=0.0), \"mse\")\n",
    "        self.model = model\n",
    "        "
   ]
  },
  {
   "cell_type": "code",
   "execution_count": 60,
   "metadata": {},
   "outputs": [
    {
     "name": "stdout",
     "output_type": "stream",
     "text": [
      "Epoch 000/020 | Loss 0.0063 | Win/lose count 1.5/2.0 (-0.5)\n",
      "Epoch 001/020 | Loss 0.0063 | Win/lose count 4.0/3.0 (1.0)\n",
      "Epoch 002/020 | Loss 0.0296 | Win/lose count 1.5/4.0 (-2.5)\n",
      "Epoch 003/020 | Loss 0.0227 | Win/lose count 1.5/1.0 (0.5)\n",
      "Epoch 004/020 | Loss 0.0025 | Win/lose count 2.0/2.0 (0.0)\n",
      "Epoch 005/020 | Loss 0.0068 | Win/lose count 0.5/2.0 (-1.5)\n",
      "Epoch 006/020 | Loss 0.0109 | Win/lose count 1.5/3.0 (-1.5)\n",
      "Epoch 007/020 | Loss 0.0086 | Win/lose count 2.5/0 (2.5)\n",
      "Epoch 008/020 | Loss 0.0165 | Win/lose count 1.0/2.0 (-1.0)\n",
      "Epoch 009/020 | Loss 0.0839 | Win/lose count 0.5/3.0 (-2.5)\n",
      "Epoch 010/020 | Loss 0.0058 | Win/lose count 3.0/4.0 (-1.0)\n",
      "Epoch 011/020 | Loss 0.0273 | Win/lose count 3.0/1.0 (2.0)\n",
      "Epoch 012/020 | Loss 0.0114 | Win/lose count 1.5/4.0 (-2.5)\n",
      "Epoch 013/020 | Loss 0.0027 | Win/lose count 2.0/2.0 (0.0)\n",
      "Epoch 014/020 | Loss 0.0134 | Win/lose count 2.0/2.0 (0.0)\n",
      "Epoch 015/020 | Loss 0.0070 | Win/lose count 1.0/4.0 (-3.0)\n",
      "Epoch 016/020 | Loss 0.0040 | Win/lose count 0.5/3.0 (-2.5)\n",
      "Epoch 017/020 | Loss 0.0018 | Win/lose count 1.5/4.0 (-2.5)\n",
      "Epoch 018/020 | Loss 0.0031 | Win/lose count 2.5/2.0 (0.5)\n",
      "Epoch 019/020 | Loss 0.0023 | Win/lose count 1.5/1.0 (0.5)\n"
     ]
    },
    {
     "data": {
      "text/html": [
       "<video alt=\"test\" controls>\n",
       "                <source src=\"data:video/mp4;base64,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\" type=\"video/mp4\" />\n",
       "             </video>"
      ],
      "text/plain": [
       "<IPython.core.display.HTML object>"
      ]
     },
     "execution_count": 60,
     "metadata": {},
     "output_type": "execute_result"
    }
   ],
   "source": [
    "env = Environment(grid_size=size, max_time=T, temperature=0.3)\n",
    "agent = DQN_FC(size, lr=.1, epsilon = 0.1, memory_size=2000, batch_size = 32)\n",
    "train(agent, env, epochs_train, prefix='fc_train')\n",
    "HTML(display_videos('fc_train10.mp4'))"
   ]
  },
  {
   "cell_type": "markdown",
   "metadata": {},
   "source": [
    "***\n",
    "***\n",
    "__Question 8__ Implement the DQN training algorithm using a CNN (for example, 2 convolutional layers and one final fully connected layer)."
   ]
  },
  {
   "cell_type": "code",
   "execution_count": 65,
   "metadata": {},
   "outputs": [],
   "source": [
    "class DQN_CNN(DQN):\n",
    "    def __init__(self, *args,lr=0.1,**kwargs):\n",
    "        super(DQN_CNN, self).__init__(*args,**kwargs)\n",
    "           \n",
    "        \n",
    "        model = Sequential()\n",
    "        model.add(Conv2D(36,(3,3),input_shape=(5,5,self.n_state,),activation='relu'))\n",
    "        model.add(Conv2D(42,(3,3),activation='relu'))\n",
    "        model.add(Flatten())\n",
    "        model.add(Dense(24,activation ='relu'))\n",
    "        model.add(Dense(4,activation ='relu'))\n",
    "        ###### FILL IN\n",
    "        \n",
    "        model.compile(sgd(lr=lr, decay=1e-4, momentum=0.0), \"mse\")\n",
    "        self.model = model"
   ]
  },
  {
   "cell_type": "code",
   "execution_count": 66,
   "metadata": {},
   "outputs": [
    {
     "name": "stdout",
     "output_type": "stream",
     "text": [
      "Epoch 000/020 | Loss 0.0834 | Win/lose count 0.5/3.0 (-2.5)\n",
      "Epoch 001/020 | Loss 0.4225 | Win/lose count 0.5/0 (0.5)\n",
      "Epoch 002/020 | Loss 0.2361 | Win/lose count 2.0/2.0 (0.0)\n",
      "Epoch 003/020 | Loss 0.2258 | Win/lose count 2.0/3.0 (-1.0)\n",
      "Epoch 004/020 | Loss 0.2240 | Win/lose count 2.0/2.0 (0.0)\n",
      "Epoch 005/020 | Loss 0.3027 | Win/lose count 2.5/3.0 (-0.5)\n",
      "Epoch 006/020 | Loss 0.2449 | Win/lose count 2.0/3.0 (-1.0)\n",
      "Epoch 007/020 | Loss 0.2755 | Win/lose count 1.0/5.0 (-4.0)\n",
      "Epoch 008/020 | Loss 0.3047 | Win/lose count 1.0/3.0 (-2.0)\n",
      "Epoch 009/020 | Loss 0.3388 | Win/lose count 1.5/2.0 (-0.5)\n",
      "Epoch 010/020 | Loss 0.2312 | Win/lose count 1.0/1.0 (0.0)\n",
      "Epoch 011/020 | Loss 0.2995 | Win/lose count 1.5/2.0 (-0.5)\n",
      "Epoch 012/020 | Loss 0.2369 | Win/lose count 2.0/2.0 (0.0)\n",
      "Epoch 013/020 | Loss 0.2744 | Win/lose count 2.0/2.0 (0.0)\n",
      "Epoch 014/020 | Loss 0.3048 | Win/lose count 2.5/5.0 (-2.5)\n",
      "Epoch 015/020 | Loss 0.2312 | Win/lose count 2.0/4.0 (-2.0)\n",
      "Epoch 016/020 | Loss 0.2522 | Win/lose count 0.5/3.0 (-2.5)\n",
      "Epoch 017/020 | Loss 0.2589 | Win/lose count 2.0/3.0 (-1.0)\n",
      "Epoch 018/020 | Loss 0.2683 | Win/lose count 1.0/1.0 (0.0)\n",
      "Epoch 019/020 | Loss 0.2511 | Win/lose count 1.5/3.0 (-1.5)\n"
     ]
    },
    {
     "data": {
      "text/html": [
       "<video alt=\"test\" controls>\n",
       "                <source src=\"data:video/mp4;base64,AAAAIGZ0eXBpc29tAAACAGlzb21pc28yYXZjMW1wNDEAAAAIZnJlZQAAE5htZGF0AAACrQYF//+p3EXpvebZSLeWLNgg2SPu73gyNjQgLSBjb3JlIDE1NyByMjkzNSA1NDVkZTJmIC0gSC4yNjQvTVBFRy00IEFWQyBjb2RlYyAtIENvcHlsZWZ0IDIwMDMtMjAxOCAtIGh0dHA6Ly93d3cudmlkZW9sYW4ub3JnL3gyNjQuaHRtbCAtIG9wdGlvbnM6IGNhYmFjPTEgcmVmPTMgZGVibG9jaz0xOjA6MCBhbmFseXNlPTB4MToweDExMSBtZT1oZXggc3VibWU9NyBwc3k9MSBwc3lfcmQ9MS4wMDowLjAwIG1peGVkX3JlZj0xIG1lX3JhbmdlPTE2IGNocm9tYV9tZT0xIHRyZWxsaXM9MSA4eDhkY3Q9MCBjcW09MCBkZWFkem9uZT0yMSwxMSBmYXN0X3Bza2lwPTEgY2hyb21hX3FwX29mZnNldD00IHRocmVhZHM9NiBsb29rYWhlYWRfdGhyZWFkcz0xIHNsaWNlZF90aHJlYWRzPTAgbnI9MCBkZWNpbWF0ZT0xIGludGVybGFjZWQ9MCBibHVyYXlfY29tcGF0PTAgY29uc3RyYWluZWRfaW50cmE9MCBiZnJhbWVzPTMgYl9weXJhbWlkPTIgYl9hZGFwdD0xIGJfYmlhcz0wIGRpcmVjdD0xIHdlaWdodGI9MSBvcGVuX2dvcD0wIHdlaWdodHA9MiBrZXlpbnQ9MjUwIGtleWludF9taW49MjUgc2NlbmVjdXQ9NDAgaW50cmFfcmVmcmVzaD0wIHJjX2xvb2thaGVhZD00MCByYz1jcmYgbWJ0cmVlPTEgY3JmPTIzLjAgcWNvbXA9MC42MCBxcG1pbj0wIHFwbWF4PTY5IHFwc3RlcD00IGlwX3JhdGlvPTEuNDAgYXE9MToxLjAwAIAAAALyZYiEADv//vb8/AptUwn/LZ/+iL/lb+9P2a61uFE7M7QacwPQC/3cd/Xi1bCrc27LcdG8bJkAU3Roif7wCe9n2YfhfPwKXAUD8CmkyOftn9QIXrhSHmeBP76xwgCaWxguMUuxOrQW8cihX2g35W84Oo154elHTvOAV7NIc6TUwHK3KCJ3ZOiF6LOtbBvv7Okld9jvT9pxr6AQv0O9kLtmB2uIJ9VuYFOn6N11LX8eK3tsz8QNLDs7DnZTTUeQHTR2nZHMJhpb8u+mFspYpTx15Kbklp8i6JM4sdyZEUmXTEkpMtg2o9POIt0wMAaC6LKrRxouM+pLROylXAptpNOdazNPNs+Kwzbagocqd5+cKZsJH4D9GajhhqXZJhKQz0hGZivGI3jWUZfxO9nPp/1HoDxi0OC0DpQfn4mlH9+Vk2h99pcXye3r6cIF2mmp6Zf2G2LO6pYUFuRxpqa4CvE2hZwg+o4ZLCNlDhLThQhso5aUXZfd2J1jaQaAWsdhxAW18azN+eTYdEDWZ3jmJHC+gNt5c7CMWs9N+LEoZgIJYhxg/9gKUNgXQd0Wg3SHPVaw4O1MzdYfGB2WIL38kFICEWAmeSIjEOY5IyG4OnZOiGMKsHKGzaALCmjGfIp/9h2ye5zFGHS9zlXCQOv9I+9uSxqzQL6dr/IEQKyZqeyJlOwsx75nAmejdJbfjBFhFO4Zk7nA7SYJXCJBxUGz3MsansdJS9goB7BYThMxJkdQWAMyDnehQs9jFerNpRKRuR5xFE/ksj+Sbgal4SEY7NPCZ9Oc4a+cbLgftJoRQW6QnSwopxWWN3yOm6DQVABnSJSKb19p6KK1g+MBFz2nNu10Ipegb2jYPx2krHApPEVFRAAAFufdceB8GRG3v/dPI7lYsKXDTpg7JEb2azexAjmyS/RhSCTn7AUwjqUlIgLXTOaDQERYADUreXLqItesMYyZexwECT4Ob/cRNNwEXK/KQpKWmzGUsOg6GGE7UCUrGQAIuQAAAA1BmiRsQ7/+qZYAAJWAAAAACkGeQniF/wAAsoEAAAAKAZ5hdEK/AADugAAAAAoBnmNqQr8AAO6BAAAAGkGaaEmoQWiZTAh3//6plgA1XtLwtQT+wEDBAAAAD0GehkURLC//AD4pshq47QAAAAoBnqV0Qr8AAO6BAAAADQGep2pCvwBWbD89eBAAAAAYQZqsSahBbJlMCHf//qmWADUXOVGP1pM3AAAAD0GeykUVLC//AD4faHXHYQAAAA0Bnul0Qr8AVlM/+XgQAAAACgGe62pCvwAA7oAAAAATQZrwSahBbJlMCHf//qmWAACVgQAAAAxBnw5FFSwv/wAAsoEAAAAKAZ8tdEK/AADugQAAAAoBny9qQr8AAO6AAAAAE0GbNEmoQWyZTAh3//6plgAAlYAAAAAMQZ9SRRUsL/8AALKBAAAACgGfcXRCvwAA7oAAAAAKAZ9zakK/AADugAAAABpBm3hJqEFsmUwId//+qZYANV7S8LUE/sBAwQAAAA9Bn5ZFFSwv/wA+H2h1x2AAAAANAZ+1dEK/AFZTP/l4EQAAAAoBn7dqQr8AAO6BAAAAGkGbvEmoQWyZTAh3//6plgA0HtLwtQT+wELAAAAAD0Gf2kUVLC//ADy/aHXIoQAAAA0Bn/l0Qr8AVBM/+XiwAAAACgGf+2pCvwAA7oEAAAATQZvgSahBbJlMCHf//qmWAACVgQAAAAxBnh5FFSwv/wAAsoAAAAAKAZ49dEK/AADugAAAAAoBnj9qQr8AAO6BAAAAE0GaJEmoQWyZTAh3//6plgAAlYAAAAAMQZ5CRRUsL/8AALKBAAAACgGeYXRCvwAA7oAAAAAKAZ5jakK/AADugQAAABNBmmhJqEFsmUwId//+qZYAAJWBAAAADEGehkUVLC//AACygQAAAAoBnqV0Qr8AAO6BAAAACgGep2pCvwAA7oAAAAATQZqsSahBbJlMCHf//qmWAACVgAAAAAxBnspFFSwv/wAAsoEAAAAKAZ7pdEK/AADugAAAAAoBnutqQr8AAO6AAAAAGkGa8EmoQWyZTAh3//6plgAy3wo+uxBuKgixAAAAD0GfDkUVLC//ADtfsr6RYQAAAA0Bny10Qr8AUfMomWqhAAAACgGfL2pCvwAA7oAAAAATQZs0SahBbJlMCHf//qmWAACVgAAAAAxBn1JFFSwv/wAAsoEAAAAKAZ9xdEK/AADugAAAAAoBn3NqQr8AAO6AAAAAGkGbeEmoQWyZTAh3//6plgAhBRzrQ9X3yIvBAAAAD0GflkUVLC//ACfMbcru0AAAAA0Bn7V0Qr8ANf/y/MLxAAAACgGft2pCvwAA7oEAAAAZQZu8SahBbJlMCHf//qmWACE/HnWO7ZEXgAAAAA9Bn9pFFSwv/wAn0+vau7UAAAAKAZ/5dEK/AADugAAAAA0Bn/tqQr8ANgRoGwvBAAAAE0Gb4EmoQWyZTAh3//6plgAAlYEAAAAMQZ4eRRUsL/8AALKAAAAACgGePXRCvwAA7oAAAAAKAZ4/akK/AADugQAAABNBmiRJqEFsmUwId//+qZYAAJWAAAAADEGeQkUVLC//AACygQAAAAoBnmF0Qr8AAO6AAAAACgGeY2pCvwAA7oEAAAATQZpoSahBbJlMCHf//qmWAACVgQAAAAxBnoZFFSwv/wAAsoEAAAAKAZ6ldEK/AADugQAAAAoBnqdqQr8AAO6AAAAAGkGarEmoQWyZTAh3//6plgAgPx50s6Op5I3AAAAAD0GeykUVLC//ACaz1rrvkQAAAA0Bnul0Qr8ANL/y/MNwAAAACgGe62pCvwAA7oAAAAAaQZrwSahBbJlMCHf//qmWAB9faX87pCmEVtEAAAAPQZ8ORRUsL/8AJbn3TZDlAAAACgGfLXRCvwAA7oEAAAANAZ8vakK/ADOEtZqOYAAAABNBmzRJqEFsmUwId//+qZYAAJWAAAAADEGfUkUVLC//AACygQAAAAoBn3F0Qr8AAO6AAAAACgGfc2pCvwAA7oAAAAATQZt4SahBbJlMCHf//qmWAACVgQAAAAxBn5ZFFSwv/wAAsoAAAAAKAZ+1dEK/AADugQAAAAoBn7dqQr8AAO6BAAAAE0GbvEmoQWyZTAh3//6plgAAlYAAAAAMQZ/aRRUsL/8AALKBAAAACgGf+XRCvwAA7oAAAAAKAZ/7akK/AADugQAAABNBm+BJqEFsmUwId//+qZYAAJWBAAAADEGeHkUVLC//AACygAAAAAoBnj10Qr8AAO6AAAAACgGeP2pCvwAA7oEAAAAaQZokSahBbJlMCHf//qmWABUtLK4zS/tgU0AAAAAPQZ5CRRUsL/8AGSD0QB3RAAAADQGeYXRCvwAhvmVpm6AAAAAKAZ5jakK/AADugQAAABNBmmhJqEFsmUwId//+qZYAAJWBAAAADEGehkUVLC//AACygQAAAAoBnqV0Qr8AAO6BAAAACgGep2pCvwAA7oAAAAATQZqsSahBbJlMCHf//qmWAACVgAAAAAxBnspFFSwv/wAAsoEAAAAKAZ7pdEK/AADugAAAAAoBnutqQr8AAO6AAAAAGkGa8EmoQWyZTAh3//6plgAVT31fXYg3FRUxAAAAD0GfDkUVLC//ABklWpWT2QAAAAoBny10Qr8AAO6BAAAADQGfL2pCvwAhuzzcN7AAAAATQZs0SahBbJlMCHf//qmWAACVgAAAAAxBn1JFFSwv/wAAsoEAAAAKAZ9xdEK/AADugAAAAAoBn3NqQr8AAO6AAAAAE0GbeEmoQWyZTAh3//6plgAAlYEAAAAMQZ+WRRUsL/8AALKAAAAACgGftXRCvwAA7oEAAAAKAZ+3akK/AADugQAAABNBm7xJqEFsmUwId//+qZYAAJWAAAAADEGf2kUVLC//AACygQAAAAoBn/l0Qr8AAO6AAAAACgGf+2pCvwAA7oEAAAATQZvgSahBbJlMCHf//qmWAACVgQAAAAxBnh5FFSwv/wAAsoAAAAAKAZ49dEK/AADugAAAAAoBnj9qQr8AAO6BAAAAE0GaJEmoQWyZTAh3//6plgAAlYAAAAAMQZ5CRRUsL/8AALKBAAAACgGeYXRCvwAA7oAAAAAKAZ5jakK/AADugQAAABNBmmhJqEFsmUwId//+qZYAAJWBAAAADEGehkUVLC//AACygQAAAAoBnqV0Qr8AAO6BAAAACgGep2pCvwAA7oAAAAATQZqsSahBbJlMCHf//qmWAACVgAAAAAxBnspFFSwv/wAAsoEAAAAKAZ7pdEK/AADugAAAAAoBnutqQr8AAO6AAAAAE0Ga8EmoQWyZTAh3//6plgAAlYEAAAAMQZ8ORRUsL/8AALKBAAAACgGfLXRCvwAA7oEAAAAKAZ8vakK/AADugAAAABNBmzRJqEFsmUwId//+qZYAAJWAAAAADEGfUkUVLC//AACygQAAAAoBn3F0Qr8AAO6AAAAACgGfc2pCvwAA7oAAAAATQZt4SahBbJlMCHf//qmWAACVgQAAAAxBn5ZFFSwv/wAAsoAAAAAKAZ+1dEK/AADugQAAAAoBn7dqQr8AAO6BAAAAE0GbvEmoQWyZTAh3//6plgAAlYAAAAAMQZ/aRRUsL/8AALKBAAAACgGf+XRCvwAA7oAAAAAKAZ/7akK/AADugQAAABNBm+BJqEFsmUwId//+qZYAAJWBAAAADEGeHkUVLC//AACygAAAAAoBnj10Qr8AAO6AAAAACgGeP2pCvwAA7oEAAAATQZokSahBbJlMCHf//qmWAACVgAAAAAxBnkJFFSwv/wAAsoEAAAAKAZ5hdEK/AADugAAAAAoBnmNqQr8AAO6BAAAAE0GaaEmoQWyZTAh3//6plgAAlYEAAAAMQZ6GRRUsL/8AALKBAAAACgGepXRCvwAA7oEAAAAKAZ6nakK/AADugAAAABNBmqxJqEFsmUwId//+qZYAAJWAAAAADEGeykUVLC//AACygQAAAAoBnul0Qr8AAO6AAAAACgGe62pCvwAA7oAAAAATQZrwSahBbJlMCHf//qmWAACVgQAAAAxBnw5FFSwv/wAAsoEAAAAKAZ8tdEK/AADugQAAAAoBny9qQr8AAO6AAAAAE0GbNEmoQWyZTAh3//6plgAAlYAAAAAMQZ9SRRUsL/8AALKBAAAACgGfcXRCvwAA7oAAAAAKAZ9zakK/AADugAAAABpBm3hJqEFsmUwId//+qZYAFS+QZoA9JfYVMQAAAA9Bn5ZFFSwv/wAZJVqVk9gAAAAKAZ+1dEK/AADugQAAAA0Bn7dqQr8AIbK4ErBBAAAAGkGbvEmoQWyZTAh3//6plgAVT31ZVZm2YFNAAAAAD0Gf2kUVLC//ABklTQ1gPQAAAAoBn/l0Qr8AAO6AAAAADQGf+2pCvwAhsm4bN0EAAAAaQZvgSahBbJlMCG///qeEAD4HGf6rfMfiNSEAAAAPQZ4eRRUsL/8AJbn3TZDkAAAACgGePXRCvwAA7oAAAAANAZ4/akK/ADOO1NwxyQAAABhBmiRJqEFsmUwIb//+p4QAPl7B/hWOY1IAAAAPQZ5CRRUsL/8AJbP931KxAAAADQGeYXRCvwAzgB9bo5AAAAAKAZ5jakK/AADugQAAABJBmmhJqEFsmUwIX//+jLAABI0AAAAMQZ6GRRUsL/8AALKBAAAACgGepXRCvwAA7oEAAAAKAZ6nakK/AADugAAAABpBmqlLqEIQWyRGCCgH8gH9h4AhX/44QAARcAAADIhtb292AAAAbG12aGQAAAAAAAAAAAAAAAAAAAPoAAAfkAABAAABAAAAAAAAAAAAAAAAAQAAAAAAAAAAAAAAAAAAAAEAAAAAAAAAAAAAAAAAAEAAAAAAAAAAAAAAAAAAAAAAAAAAAAAAAAAAAAAAAAACAAALsnRyYWsAAABcdGtoZAAAAAMAAAAAAAAAAAAAAAEAAAAAAAAfkAAAAAAAAAAAAAAAAAAAAAAAAQAAAAAAAAAAAAAAAAAAAAEAAAAAAAAAAAAAAAAAAEAAAAABEAAAARAAAAAAACRlZHRzAAAAHGVsc3QAAAAAAAAAAQAAH5AAAAQAAAEAAAAACyptZGlhAAAAIG1kaGQAAAAAAAAAAAAAAAAAADIAAAGUAFXEAAAAAAAtaGRscgAAAAAAAAAAdmlkZQAAAAAAAAAAAAAAAFZpZGVvSGFuZGxlcgAAAArVbWluZgAAABR2bWhkAAAAAQAAAAAAAAAAAAAAJGRpbmYAAAAcZHJlZgAAAAAAAAABAAAADHVybCAAAAABAAAKlXN0YmwAAACVc3RzZAAAAAAAAAABAAAAhWF2YzEAAAAAAAAAAQAAAAAAAAAAAAAAAAAAAAABEAEQAEgAAABIAAAAAAAAAAEAAAAAAAAAAAAAAAAAAAAAAAAAAAAAAAAAAAAAAAAAAAAY//8AAAAvYXZjQwH0AA3/4QAXZ/QADZGbKCIR0IAAAAMAgAAAGQeKFMsBAAVo6+PESAAAABhzdHRzAAAAAAAAAAEAAADKAAACAAAAABRzdHNzAAAAAAAAAAEAAAABAAAGYGN0dHMAAAAAAAAAygAAAAEAAAQAAAAAAQAACgAAAAABAAAEAAAAAAEAAAAAAAAAAQAAAgAAAAABAAAKAAAAAAEAAAQAAAAAAQAAAAAAAAABAAACAAAAAAEAAAoAAAAAAQAABAAAAAABAAAAAAAAAAEAAAIAAAAAAQAACgAAAAABAAAEAAAAAAEAAAAAAAAAAQAAAgAAAAABAAAKAAAAAAEAAAQAAAAAAQAAAAAAAAABAAACAAAAAAEAAAoAAAAAAQAABAAAAAABAAAAAAAAAAEAAAIAAAAAAQAACgAAAAABAAAEAAAAAAEAAAAAAAAAAQAAAgAAAAABAAAKAAAAAAEAAAQAAAAAAQAAAAAAAAABAAACAAAAAAEAAAoAAAAAAQAABAAAAAABAAAAAAAAAAEAAAIAAAAAAQAACgAAAAABAAAEAAAAAAEAAAAAAAAAAQAAAgAAAAABAAAKAAAAAAEAAAQAAAAAAQAAAAAAAAABAAACAAAAAAEAAAoAAAAAAQAABAAAAAABAAAAAAAAAAEAAAIAAAAAAQAACgAAAAABAAAEAAAAAAEAAAAAAAAAAQAAAgAAAAABAAAKAAAAAAEAAAQAAAAAAQAAAAAAAAABAAACAAAAAAEAAAoAAAAAAQAABAAAAAABAAAAAAAAAAEAAAIAAAAAAQAACgAAAAABAAAEAAAAAAEAAAAAAAAAAQAAAgAAAAABAAAKAAAAAAEAAAQAAAAAAQAAAAAAAAABAAACAAAAAAEAAAoAAAAAAQAABAAAAAABAAAAAAAAAAEAAAIAAAAAAQAACgAAAAABAAAEAAAAAAEAAAAAAAAAAQAAAgAAAAABAAAKAAAAAAEAAAQAAAAAAQAAAAAAAAABAAACAAAAAAEAAAoAAAAAAQAABAAAAAABAAAAAAAAAAEAAAIAAAAAAQAACgAAAAABAAAEAAAAAAEAAAAAAAAAAQAAAgAAAAABAAAKAAAAAAEAAAQAAAAAAQAAAAAAAAABAAACAAAAAAEAAAoAAAAAAQAABAAAAAABAAAAAAAAAAEAAAIAAAAAAQAACgAAAAABAAAEAAAAAAEAAAAAAAAAAQAAAgAAAAABAAAKAAAAAAEAAAQAAAAAAQAAAAAAAAABAAACAAAAAAEAAAoAAAAAAQAABAAAAAABAAAAAAAAAAEAAAIAAAAAAQAACgAAAAABAAAEAAAAAAEAAAAAAAAAAQAAAgAAAAABAAAKAAAAAAEAAAQAAAAAAQAAAAAAAAABAAACAAAAAAEAAAoAAAAAAQAABAAAAAABAAAAAAAAAAEAAAIAAAAAAQAACgAAAAABAAAEAAAAAAEAAAAAAAAAAQAAAgAAAAABAAAKAAAAAAEAAAQAAAAAAQAAAAAAAAABAAACAAAAAAEAAAoAAAAAAQAABAAAAAABAAAAAAAAAAEAAAIAAAAAAQAACgAAAAABAAAEAAAAAAEAAAAAAAAAAQAAAgAAAAABAAAKAAAAAAEAAAQAAAAAAQAAAAAAAAABAAACAAAAAAEAAAoAAAAAAQAABAAAAAABAAAAAAAAAAEAAAIAAAAAAQAACgAAAAABAAAEAAAAAAEAAAAAAAAAAQAAAgAAAAABAAAKAAAAAAEAAAQAAAAAAQAAAAAAAAABAAACAAAAAAEAAAoAAAAAAQAABAAAAAABAAAAAAAAAAEAAAIAAAAAAQAACgAAAAABAAAEAAAAAAEAAAAAAAAAAQAAAgAAAAABAAAKAAAAAAEAAAQAAAAAAQAAAAAAAAABAAACAAAAAAEAAAoAAAAAAQAABAAAAAABAAAAAAAAAAEAAAIAAAAAAQAACgAAAAABAAAEAAAAAAEAAAAAAAAAAQAAAgAAAAABAAAKAAAAAAEAAAQAAAAAAQAAAAAAAAABAAACAAAAAAEAAAoAAAAAAQAABAAAAAABAAAAAAAAAAEAAAIAAAAAAQAACgAAAAABAAAEAAAAAAEAAAAAAAAAAQAAAgAAAAABAAAKAAAAAAEAAAQAAAAAAQAAAAAAAAABAAACAAAAAAEAAAoAAAAAAQAABAAAAAABAAAAAAAAAAEAAAIAAAAAAQAACgAAAAABAAAEAAAAAAEAAAAAAAAAAQAAAgAAAAABAAAKAAAAAAEAAAQAAAAAAQAAAAAAAAABAAACAAAAAAEAAAQAAAAAHHN0c2MAAAAAAAAAAQAAAAEAAADKAAAAAQAAAzxzdHN6AAAAAAAAAAAAAADKAAAFpwAAABEAAAAOAAAADgAAAA4AAAAeAAAAEwAAAA4AAAARAAAAHAAAABMAAAARAAAADgAAABcAAAAQAAAADgAAAA4AAAAXAAAAEAAAAA4AAAAOAAAAHgAAABMAAAARAAAADgAAAB4AAAATAAAAEQAAAA4AAAAXAAAAEAAAAA4AAAAOAAAAFwAAABAAAAAOAAAADgAAABcAAAAQAAAADgAAAA4AAAAXAAAAEAAAAA4AAAAOAAAAHgAAABMAAAARAAAADgAAABcAAAAQAAAADgAAAA4AAAAeAAAAEwAAABEAAAAOAAAAHQAAABMAAAAOAAAAEQAAABcAAAAQAAAADgAAAA4AAAAXAAAAEAAAAA4AAAAOAAAAFwAAABAAAAAOAAAADgAAAB4AAAATAAAAEQAAAA4AAAAeAAAAEwAAAA4AAAARAAAAFwAAABAAAAAOAAAADgAAABcAAAAQAAAADgAAAA4AAAAXAAAAEAAAAA4AAAAOAAAAFwAAABAAAAAOAAAADgAAAB4AAAATAAAAEQAAAA4AAAAXAAAAEAAAAA4AAAAOAAAAFwAAABAAAAAOAAAADgAAAB4AAAATAAAADgAAABEAAAAXAAAAEAAAAA4AAAAOAAAAFwAAABAAAAAOAAAADgAAABcAAAAQAAAADgAAAA4AAAAXAAAAEAAAAA4AAAAOAAAAFwAAABAAAAAOAAAADgAAABcAAAAQAAAADgAAAA4AAAAXAAAAEAAAAA4AAAAOAAAAFwAAABAAAAAOAAAADgAAABcAAAAQAAAADgAAAA4AAAAXAAAAEAAAAA4AAAAOAAAAFwAAABAAAAAOAAAADgAAABcAAAAQAAAADgAAAA4AAAAXAAAAEAAAAA4AAAAOAAAAFwAAABAAAAAOAAAADgAAABcAAAAQAAAADgAAAA4AAAAXAAAAEAAAAA4AAAAOAAAAFwAAABAAAAAOAAAADgAAAB4AAAATAAAADgAAABEAAAAeAAAAEwAAAA4AAAARAAAAHgAAABMAAAAOAAAAEQAAABwAAAATAAAAEQAAAA4AAAAWAAAAEAAAAA4AAAAOAAAAHgAAABRzdGNvAAAAAAAAAAEAAAAwAAAAYnVkdGEAAABabWV0YQAAAAAAAAAhaGRscgAAAAAAAAAAbWRpcmFwcGwAAAAAAAAAAAAAAAAtaWxzdAAAACWpdG9vAAAAHWRhdGEAAAABAAAAAExhdmY1OC4yMC4xMDA=\" type=\"video/mp4\" />\n",
       "             </video>"
      ],
      "text/plain": [
       "<IPython.core.display.HTML object>"
      ]
     },
     "execution_count": 66,
     "metadata": {},
     "output_type": "execute_result"
    }
   ],
   "source": [
    "env = Environment(grid_size=size, max_time=T, temperature=0.3)\n",
    "agent = DQN_CNN(size, lr=.1, epsilon = 0.1, memory_size=2000, batch_size = 32)\n",
    "train(agent,env,epochs_train,prefix='cnn_train')\n",
    "HTML(display_videos('cnn_train10.mp4'))"
   ]
  },
  {
   "cell_type": "markdown",
   "metadata": {},
   "source": [
    "***\n",
    "***\n",
    "__Question 9__ Test both algorithms and compare their performances. Which issue(s) do you observe? Observe also different behaviors by changing the temperature."
   ]
  },
  {
   "cell_type": "code",
   "execution_count": 109,
   "metadata": {},
   "outputs": [
    {
     "name": "stdout",
     "output_type": "stream",
     "text": [
      "Test of the CNN\n",
      "Win/lose count 3.5/5.0. Average score (-1.5)\n",
      "Win/lose count 3.5/5.0. Average score (-1.5)\n",
      "Win/lose count 0.5/4.0. Average score (-2.1666666666666665)\n",
      "Win/lose count 3.5/3.0. Average score (-1.5)\n",
      "Win/lose count 3.5/2.0. Average score (-0.9)\n",
      "Win/lose count 4.0/1.0. Average score (-0.25)\n",
      "Win/lose count 4.5/2.0. Average score (0.14285714285714285)\n",
      "Win/lose count 1.0/3.0. Average score (-0.125)\n",
      "Win/lose count 3.5/2.0. Average score (0.05555555555555555)\n",
      "Win/lose count 4.0/8.0. Average score (-0.35)\n",
      "Win/lose count 3.5/2.0. Average score (-0.18181818181818182)\n",
      "Win/lose count 5.0/6.0. Average score (-0.25)\n",
      "Win/lose count 2.5/1.0. Average score (-0.11538461538461539)\n",
      "Win/lose count 2.5/5.0. Average score (-0.2857142857142857)\n",
      "Win/lose count 4.5/3.0. Average score (-0.16666666666666666)\n",
      "Final score: -0.16666666666666666\n",
      "Test of the FC\n",
      "Win/lose count 2.5/4.0. Average score (-1.5)\n",
      "Win/lose count 1.5/3.0. Average score (-1.5)\n",
      "Win/lose count 1.5/3.0. Average score (-1.5)\n",
      "Win/lose count 2.5/3.0. Average score (-1.25)\n",
      "Win/lose count 1.5/5.0. Average score (-1.7)\n",
      "Win/lose count 1.5/1.0. Average score (-1.3333333333333333)\n",
      "Win/lose count 0.5/2.0. Average score (-1.3571428571428572)\n",
      "Win/lose count 0.5/3.0. Average score (-1.5)\n",
      "Win/lose count 0.5/4.0. Average score (-1.7222222222222223)\n",
      "Win/lose count 3.0/1.0. Average score (-1.35)\n",
      "Win/lose count 3.0/2.0. Average score (-1.1363636363636365)\n",
      "Win/lose count 1.5/3.0. Average score (-1.1666666666666667)\n",
      "Win/lose count 2.5/1.0. Average score (-0.9615384615384616)\n",
      "Win/lose count 2.5/5.0. Average score (-1.0714285714285714)\n",
      "Win/lose count 1.5/3.0. Average score (-1.1)\n",
      "Final score: -1.1\n"
     ]
    }
   ],
   "source": [
    "env = Environment(grid_size=size, max_time=T,temperature=0.3)\n",
    "agent_cnn = DQN_CNN(size, lr=.1, epsilon = 0.2, memory_size=2000, batch_size = 32)\n",
    "agent_cnn.load(name_weights='cnn_trainmodel.h5',name_model='cnn_trainmodel.json')\n",
    "\n",
    "agent_fc = DQN_FC(size, lr=.1, epsilon = 0.1, memory_size=2000, batch_size = 32)\n",
    "agent_cnn.load(name_weights='fc_trainmodel.h5',name_model='fc_trainmodel.json')\n",
    "print('Test of the CNN')\n",
    "test(agent_cnn,env,epochs_test,prefix='cnn_test')\n",
    "print('Test of the FC')\n",
    "test(agent_fc,env,epochs_test,prefix='fc_test')"
   ]
  },
  {
   "cell_type": "code",
   "execution_count": 68,
   "metadata": {},
   "outputs": [
    {
     "data": {
      "text/html": [
       "<video alt=\"test\" controls>\n",
       "                <source src=\"data:video/mp4;base64,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\" type=\"video/mp4\" />\n",
       "             </video>"
      ],
      "text/plain": [
       "<IPython.core.display.HTML object>"
      ]
     },
     "execution_count": 68,
     "metadata": {},
     "output_type": "execute_result"
    }
   ],
   "source": [
    "HTML(display_videos('cnn_test10.mp4'))"
   ]
  },
  {
   "cell_type": "code",
   "execution_count": 69,
   "metadata": {},
   "outputs": [
    {
     "data": {
      "text/html": [
       "<video alt=\"test\" controls>\n",
       "                <source src=\"data:video/mp4;base64,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\" type=\"video/mp4\" />\n",
       "             </video>"
      ],
      "text/plain": [
       "<IPython.core.display.HTML object>"
      ]
     },
     "execution_count": 69,
     "metadata": {},
     "output_type": "execute_result"
    }
   ],
   "source": [
    "HTML(display_videos('fc_test10.mp4'))"
   ]
  },
  {
   "cell_type": "markdown",
   "metadata": {},
   "source": [
    ">- Performance : The CNN's performance are better than the FC's. \n",
    ">- Behaviors related to temperature : The average score is higher for both CNN and FC. The gap of performance between the 2 algorithms seems to be reduced. This is related to the fact that when temperature is higher there is more positive reward available and less negative reward (more cheese and less poisinous cells for the mouse) as we can see in the 2 bords below. So, as it is more easy to get a reward, it is more easy for the FC algorithm to get similar performances to the CNN algorithm\n",
    ">- Issues : The major issue I noticed is related to the mouse being stuck in the same area of the board. It keeps oscillating between two positions and does not explore the board. Another issue is related to the fact that the mouse can perform dumb action (such as going to a posinous cell in the corner of the bord) just to explore the board. This is to say that exploration moves can be optimised. "
   ]
  },
  {
   "cell_type": "code",
   "execution_count": 108,
   "metadata": {},
   "outputs": [
    {
     "data": {
      "image/png": "[encoded data removed]",
      "text/plain": [
       "<Figure size 432x288 with 2 Axes>"
      ]
     },
     "metadata": {
      "needs_background": "light"
     },
     "output_type": "display_data"
    }
   ],
   "source": [
    "import matplotlib.pylab as plt\n",
    "env_high_temp = Environment(grid_size=size, max_time=T,temperature=0.9)\n",
    "env_high_temp.reset()\n",
    "env_low_temp = Environment(grid_size=size, max_time=T,temperature=0.3)\n",
    "env_low_temp.reset()\n",
    "\n",
    "fig = plt.figure()\n",
    "ax1=fig.add_subplot(121)\n",
    "ax1.imshow(env_high_temp.board)\n",
    "ax1.set_title(\"high temperature\")\n",
    "ax2=fig.add_subplot(122)\n",
    "ax2.imshow(env_low_temp.board)\n",
    "ax2.set_title(\"low temperature\")\n",
    "fig.show()"
   ]
  },
  {
   "cell_type": "markdown",
   "metadata": {},
   "source": [
    "***\n",
    "\n",
    "The algorithm tends to not explore the map which can be an issue. We propose two ideas in order to encourage exploration:\n",
    "1. Incorporating a decreasing $\\epsilon$-greedy exploration. You can use the method ```set_epsilon```\n",
    "2. Append via the environment a new state that describes if a cell has been visited or not\n",
    "\n",
    "***\n",
    "__Question 10__ Design a new ```train_explore``` function and environment class ```EnvironmentExploring``` to tackle the issue of exploration.\n",
    "\n"
   ]
  },
  {
   "cell_type": "code",
   "execution_count": null,
   "metadata": {
    "collapsed": true
   },
   "outputs": [],
   "source": [
    "def train_explore(agent,env,epoch,prefix=''):\n",
    "    pass\n",
    "        \n",
    "class EnvironmentExploring(object):\n",
    "    def __init__(self, grid_size=10, max_time=500, temperature=0.1):\n",
    "        pass\n",
    "    \n",
    "## use those samples of code:\n",
    "#In train explore:\n",
    "state, reward, game_over = env.act(action, train=True)\n",
    "\n",
    "## In Environment exploring:\n",
    "# You will have to change n_state to 3 because you will use one more layer!\n",
    "reward = 0\n",
    "if train:\n",
    "    reward = -self.malus_position[self.x, self.y]\n",
    "self.malus_position[self.x, self.y] = 0.1\n",
    "\n",
    "reward = reward + self.board[self.x, self.y]\n",
    "# 3 \"feature\" states instead of 2\n",
    "state = np.concatenate((self.malus_position.reshape(self.grid_size, self.grid_size,1),\n",
    "                                self.board.reshape(self.grid_size, self.grid_size,1),\n",
    "                        self.position.reshape(self.grid_size, self.grid_size,1)),axis=2)"
   ]
  },
  {
   "cell_type": "code",
   "execution_count": null,
   "metadata": {
    "collapsed": true
   },
   "outputs": [],
   "source": [
    "# Training\n",
    "env = EnvironmentExploring(grid_size=size, max_time=T, temperature=0.3)\n",
    "agent = DQN_CNN(size, lr=.1, epsilon = 0.1, memory_size=2000, batch_size = 32,n_state=3)\n",
    "train_explore(agent, env, epochs_train, prefix='cnn_train_explore')\n",
    "HTML(display_videos('cnn_train_explore10.mp4'))"
   ]
  },
  {
   "cell_type": "code",
   "execution_count": null,
   "metadata": {
    "collapsed": true
   },
   "outputs": [],
   "source": [
    "# Evaluation\n",
    "test(agent,env,epochs_test,prefix='cnn_test_explore')\n",
    "HTML(display_videos('cnn_test_explore10.mp4'))"
   ]
  },
  {
   "cell_type": "markdown",
   "metadata": {},
   "source": [
    "***\n",
    "***\n",
    "__BONUS question__ Use the expert DQN from the previous question to generate some winning games. Train a model that mimicks its behavior. Compare the performances."
   ]
  },
  {
   "cell_type": "markdown",
   "metadata": {},
   "source": []
  },
  {
   "cell_type": "markdown",
   "metadata": {},
   "source": [
    "***"
   ]
  }
 ],
 "metadata": {
  "kernelspec": {
   "display_name": "Python 3",
   "language": "python",
   "name": "python3"
  },
  "language_info": {
   "codemirror_mode": {
    "name": "ipython",
    "version": 3
   },
   "file_extension": ".py",
   "mimetype": "text/x-python",
   "name": "python",
   "nbconvert_exporter": "python",
   "pygments_lexer": "ipython3",
   "version": "3.6.7"
  }
 },
 "nbformat": 4,
 "nbformat_minor": 2
}
